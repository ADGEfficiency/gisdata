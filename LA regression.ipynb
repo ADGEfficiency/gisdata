{
 "cells": [
  {
   "cell_type": "code",
   "execution_count": 2,
   "metadata": {},
   "outputs": [],
   "source": [
    "import pandas as pd  \n",
    "import numpy as np  \n",
    "import matplotlib.pyplot as plt  \n",
    "import seaborn as seabornInstance \n",
    "from sklearn.model_selection import train_test_split \n",
    "from sklearn.linear_model import LinearRegression\n",
    "from sklearn import metrics\n",
    "%matplotlib inline"
   ]
  },
  {
   "cell_type": "code",
   "execution_count": 3,
   "metadata": {},
   "outputs": [],
   "source": [
    "dataset = pd.read_csv('data.csv')"
   ]
  },
  {
   "cell_type": "code",
   "execution_count": 4,
   "metadata": {},
   "outputs": [
    {
     "data": {
      "text/plain": [
       "(10000, 25)"
      ]
     },
     "execution_count": 4,
     "metadata": {},
     "output_type": "execute_result"
    }
   ],
   "source": [
    "dataset.shape"
   ]
  },
  {
   "cell_type": "code",
   "execution_count": 5,
   "metadata": {},
   "outputs": [
    {
     "data": {
      "text/html": [
       "<div>\n",
       "<style scoped>\n",
       "    .dataframe tbody tr th:only-of-type {\n",
       "        vertical-align: middle;\n",
       "    }\n",
       "\n",
       "    .dataframe tbody tr th {\n",
       "        vertical-align: top;\n",
       "    }\n",
       "\n",
       "    .dataframe thead th {\n",
       "        text-align: right;\n",
       "    }\n",
       "</style>\n",
       "<table border=\"1\" class=\"dataframe\">\n",
       "  <thead>\n",
       "    <tr style=\"text-align: right;\">\n",
       "      <th></th>\n",
       "      <th>vehicle_type</th>\n",
       "      <th>appname</th>\n",
       "      <th>device_os</th>\n",
       "      <th>rowkey</th>\n",
       "      <th>datestr</th>\n",
       "      <th>id</th>\n",
       "      <th>rowdiff</th>\n",
       "      <th>diff_mins</th>\n",
       "      <th>user_longitude</th>\n",
       "      <th>user_latitude</th>\n",
       "      <th>...</th>\n",
       "      <th>last_incoming_communication_at</th>\n",
       "      <th>prev_vehicle_lng</th>\n",
       "      <th>prev_vehicle_lat</th>\n",
       "      <th>post_vehicle_lng</th>\n",
       "      <th>post_vehicle_lat</th>\n",
       "      <th>vehicle_lng</th>\n",
       "      <th>vehicle_lat</th>\n",
       "      <th>distancem</th>\n",
       "      <th>trip_uuid</th>\n",
       "      <th>task_uuid</th>\n",
       "    </tr>\n",
       "  </thead>\n",
       "  <tbody>\n",
       "    <tr>\n",
       "      <td>0</td>\n",
       "      <td>Scooter</td>\n",
       "      <td>Helix</td>\n",
       "      <td>ios</td>\n",
       "      <td>906</td>\n",
       "      <td>2019-09-04</td>\n",
       "      <td>c2d9f54e3a084a79</td>\n",
       "      <td>1</td>\n",
       "      <td>4</td>\n",
       "      <td>-80.19312</td>\n",
       "      <td>25.75829</td>\n",
       "      <td>...</td>\n",
       "      <td>2019-09-04 22:35:51.000</td>\n",
       "      <td>-80.193698</td>\n",
       "      <td>25.758545</td>\n",
       "      <td>-80.193698</td>\n",
       "      <td>25.758545</td>\n",
       "      <td>-80.193698</td>\n",
       "      <td>25.758545</td>\n",
       "      <td>64.46</td>\n",
       "      <td>\\N</td>\n",
       "      <td>\\N</td>\n",
       "    </tr>\n",
       "    <tr>\n",
       "      <td>1</td>\n",
       "      <td>Scooter</td>\n",
       "      <td>Helix</td>\n",
       "      <td>ios</td>\n",
       "      <td>14031</td>\n",
       "      <td>2019-09-04</td>\n",
       "      <td>c2d9f54e3a084a79</td>\n",
       "      <td>1</td>\n",
       "      <td>4</td>\n",
       "      <td>-80.19387</td>\n",
       "      <td>25.76550</td>\n",
       "      <td>...</td>\n",
       "      <td>2019-09-04 23:51:00.000</td>\n",
       "      <td>-80.193810</td>\n",
       "      <td>25.765441</td>\n",
       "      <td>-80.193810</td>\n",
       "      <td>25.765441</td>\n",
       "      <td>-80.193810</td>\n",
       "      <td>25.765441</td>\n",
       "      <td>8.90</td>\n",
       "      <td>\\N</td>\n",
       "      <td>\\N</td>\n",
       "    </tr>\n",
       "    <tr>\n",
       "      <td>2</td>\n",
       "      <td>Scooter</td>\n",
       "      <td>Helix</td>\n",
       "      <td>ios</td>\n",
       "      <td>1107</td>\n",
       "      <td>2019-09-18</td>\n",
       "      <td>18612f7f7df48c92</td>\n",
       "      <td>1</td>\n",
       "      <td>6</td>\n",
       "      <td>-80.19211</td>\n",
       "      <td>25.76887</td>\n",
       "      <td>...</td>\n",
       "      <td>2019-09-18 16:56:33.000</td>\n",
       "      <td>-80.192591</td>\n",
       "      <td>25.768826</td>\n",
       "      <td>-80.192591</td>\n",
       "      <td>25.768826</td>\n",
       "      <td>-80.192591</td>\n",
       "      <td>25.768826</td>\n",
       "      <td>48.41</td>\n",
       "      <td>\\N</td>\n",
       "      <td>\\N</td>\n",
       "    </tr>\n",
       "    <tr>\n",
       "      <td>3</td>\n",
       "      <td>Scooter</td>\n",
       "      <td>Helix</td>\n",
       "      <td>ios</td>\n",
       "      <td>45630</td>\n",
       "      <td>2019-09-18</td>\n",
       "      <td>18612f7f7df48c92</td>\n",
       "      <td>1</td>\n",
       "      <td>6</td>\n",
       "      <td>-80.19227</td>\n",
       "      <td>25.76867</td>\n",
       "      <td>...</td>\n",
       "      <td>2019-09-18 16:56:33.000</td>\n",
       "      <td>-80.192591</td>\n",
       "      <td>25.768826</td>\n",
       "      <td>-80.192591</td>\n",
       "      <td>25.768826</td>\n",
       "      <td>-80.192591</td>\n",
       "      <td>25.768826</td>\n",
       "      <td>36.53</td>\n",
       "      <td>\\N</td>\n",
       "      <td>\\N</td>\n",
       "    </tr>\n",
       "    <tr>\n",
       "      <td>4</td>\n",
       "      <td>Scooter</td>\n",
       "      <td>Helix</td>\n",
       "      <td>ios</td>\n",
       "      <td>1025</td>\n",
       "      <td>2019-09-18</td>\n",
       "      <td>18612f7f7df48c92</td>\n",
       "      <td>1</td>\n",
       "      <td>8</td>\n",
       "      <td>-80.19426</td>\n",
       "      <td>25.76180</td>\n",
       "      <td>...</td>\n",
       "      <td>2019-09-18 19:43:24.000</td>\n",
       "      <td>-80.194368</td>\n",
       "      <td>25.761536</td>\n",
       "      <td>-80.194368</td>\n",
       "      <td>25.761536</td>\n",
       "      <td>-80.194368</td>\n",
       "      <td>25.761536</td>\n",
       "      <td>31.28</td>\n",
       "      <td>\\N</td>\n",
       "      <td>\\N</td>\n",
       "    </tr>\n",
       "  </tbody>\n",
       "</table>\n",
       "<p>5 rows × 25 columns</p>\n",
       "</div>"
      ],
      "text/plain": [
       "  vehicle_type appname device_os  rowkey     datestr                id  \\\n",
       "0      Scooter   Helix       ios     906  2019-09-04  c2d9f54e3a084a79   \n",
       "1      Scooter   Helix       ios   14031  2019-09-04  c2d9f54e3a084a79   \n",
       "2      Scooter   Helix       ios    1107  2019-09-18  18612f7f7df48c92   \n",
       "3      Scooter   Helix       ios   45630  2019-09-18  18612f7f7df48c92   \n",
       "4      Scooter   Helix       ios    1025  2019-09-18  18612f7f7df48c92   \n",
       "\n",
       "   rowdiff  diff_mins  user_longitude  user_latitude  ...  \\\n",
       "0        1          4       -80.19312       25.75829  ...   \n",
       "1        1          4       -80.19387       25.76550  ...   \n",
       "2        1          6       -80.19211       25.76887  ...   \n",
       "3        1          6       -80.19227       25.76867  ...   \n",
       "4        1          8       -80.19426       25.76180  ...   \n",
       "\n",
       "  last_incoming_communication_at prev_vehicle_lng prev_vehicle_lat  \\\n",
       "0        2019-09-04 22:35:51.000       -80.193698        25.758545   \n",
       "1        2019-09-04 23:51:00.000       -80.193810        25.765441   \n",
       "2        2019-09-18 16:56:33.000       -80.192591        25.768826   \n",
       "3        2019-09-18 16:56:33.000       -80.192591        25.768826   \n",
       "4        2019-09-18 19:43:24.000       -80.194368        25.761536   \n",
       "\n",
       "  post_vehicle_lng post_vehicle_lat vehicle_lng  vehicle_lat  distancem  \\\n",
       "0       -80.193698        25.758545  -80.193698    25.758545      64.46   \n",
       "1       -80.193810        25.765441  -80.193810    25.765441       8.90   \n",
       "2       -80.192591        25.768826  -80.192591    25.768826      48.41   \n",
       "3       -80.192591        25.768826  -80.192591    25.768826      36.53   \n",
       "4       -80.194368        25.761536  -80.194368    25.761536      31.28   \n",
       "\n",
       "   trip_uuid  task_uuid  \n",
       "0         \\N         \\N  \n",
       "1         \\N         \\N  \n",
       "2         \\N         \\N  \n",
       "3         \\N         \\N  \n",
       "4         \\N         \\N  \n",
       "\n",
       "[5 rows x 25 columns]"
      ]
     },
     "execution_count": 5,
     "metadata": {},
     "output_type": "execute_result"
    }
   ],
   "source": [
    "dataset.head(\n",
    ")"
   ]
  },
  {
   "cell_type": "code",
   "execution_count": 7,
   "metadata": {},
   "outputs": [],
   "source": [
    "dataset = dataset[dataset.columns[dataset.columns.isin(['user_longitude', 'user_latitude', 'vehicle_lng', 'vehicle_lat'])]]"
   ]
  },
  {
   "cell_type": "code",
   "execution_count": 8,
   "metadata": {},
   "outputs": [
    {
     "data": {
      "text/html": [
       "<div>\n",
       "<style scoped>\n",
       "    .dataframe tbody tr th:only-of-type {\n",
       "        vertical-align: middle;\n",
       "    }\n",
       "\n",
       "    .dataframe tbody tr th {\n",
       "        vertical-align: top;\n",
       "    }\n",
       "\n",
       "    .dataframe thead th {\n",
       "        text-align: right;\n",
       "    }\n",
       "</style>\n",
       "<table border=\"1\" class=\"dataframe\">\n",
       "  <thead>\n",
       "    <tr style=\"text-align: right;\">\n",
       "      <th></th>\n",
       "      <th>user_longitude</th>\n",
       "      <th>user_latitude</th>\n",
       "      <th>vehicle_lng</th>\n",
       "      <th>vehicle_lat</th>\n",
       "    </tr>\n",
       "  </thead>\n",
       "  <tbody>\n",
       "    <tr>\n",
       "      <td>0</td>\n",
       "      <td>-80.19312</td>\n",
       "      <td>25.75829</td>\n",
       "      <td>-80.193698</td>\n",
       "      <td>25.758545</td>\n",
       "    </tr>\n",
       "    <tr>\n",
       "      <td>1</td>\n",
       "      <td>-80.19387</td>\n",
       "      <td>25.76550</td>\n",
       "      <td>-80.193810</td>\n",
       "      <td>25.765441</td>\n",
       "    </tr>\n",
       "    <tr>\n",
       "      <td>2</td>\n",
       "      <td>-80.19211</td>\n",
       "      <td>25.76887</td>\n",
       "      <td>-80.192591</td>\n",
       "      <td>25.768826</td>\n",
       "    </tr>\n",
       "    <tr>\n",
       "      <td>3</td>\n",
       "      <td>-80.19227</td>\n",
       "      <td>25.76867</td>\n",
       "      <td>-80.192591</td>\n",
       "      <td>25.768826</td>\n",
       "    </tr>\n",
       "    <tr>\n",
       "      <td>4</td>\n",
       "      <td>-80.19426</td>\n",
       "      <td>25.76180</td>\n",
       "      <td>-80.194368</td>\n",
       "      <td>25.761536</td>\n",
       "    </tr>\n",
       "  </tbody>\n",
       "</table>\n",
       "</div>"
      ],
      "text/plain": [
       "   user_longitude  user_latitude  vehicle_lng  vehicle_lat\n",
       "0       -80.19312       25.75829   -80.193698    25.758545\n",
       "1       -80.19387       25.76550   -80.193810    25.765441\n",
       "2       -80.19211       25.76887   -80.192591    25.768826\n",
       "3       -80.19227       25.76867   -80.192591    25.768826\n",
       "4       -80.19426       25.76180   -80.194368    25.761536"
      ]
     },
     "execution_count": 8,
     "metadata": {},
     "output_type": "execute_result"
    }
   ],
   "source": [
    "dataset.head()"
   ]
  },
  {
   "cell_type": "code",
   "execution_count": 20,
   "metadata": {},
   "outputs": [],
   "source": [
    "actual = dataset[dataset.columns[dataset.columns.isin(['vehicle_lng', 'vehicle_lat'])]]"
   ]
  },
  {
   "cell_type": "code",
   "execution_count": 21,
   "metadata": {},
   "outputs": [],
   "source": [
    "expected = dataset[dataset.columns[dataset.columns.isin(['user_longitude', 'user_latitude'])]]"
   ]
  },
  {
   "cell_type": "code",
   "execution_count": 23,
   "metadata": {},
   "outputs": [],
   "source": [
    "\n",
    "actual.loc[:, 'real'] = 0\n",
    "expected.loc[:, 'real'] = 1"
   ]
  },
  {
   "cell_type": "code",
   "execution_count": 25,
   "metadata": {},
   "outputs": [
    {
     "data": {
      "text/html": [
       "<div>\n",
       "<style scoped>\n",
       "    .dataframe tbody tr th:only-of-type {\n",
       "        vertical-align: middle;\n",
       "    }\n",
       "\n",
       "    .dataframe tbody tr th {\n",
       "        vertical-align: top;\n",
       "    }\n",
       "\n",
       "    .dataframe thead th {\n",
       "        text-align: right;\n",
       "    }\n",
       "</style>\n",
       "<table border=\"1\" class=\"dataframe\">\n",
       "  <thead>\n",
       "    <tr style=\"text-align: right;\">\n",
       "      <th></th>\n",
       "      <th>vehicle_lng</th>\n",
       "      <th>vehicle_lat</th>\n",
       "      <th>real</th>\n",
       "    </tr>\n",
       "  </thead>\n",
       "  <tbody>\n",
       "    <tr>\n",
       "      <td>0</td>\n",
       "      <td>-80.193698</td>\n",
       "      <td>25.758545</td>\n",
       "      <td>0</td>\n",
       "    </tr>\n",
       "    <tr>\n",
       "      <td>1</td>\n",
       "      <td>-80.193810</td>\n",
       "      <td>25.765441</td>\n",
       "      <td>0</td>\n",
       "    </tr>\n",
       "    <tr>\n",
       "      <td>2</td>\n",
       "      <td>-80.192591</td>\n",
       "      <td>25.768826</td>\n",
       "      <td>0</td>\n",
       "    </tr>\n",
       "    <tr>\n",
       "      <td>3</td>\n",
       "      <td>-80.192591</td>\n",
       "      <td>25.768826</td>\n",
       "      <td>0</td>\n",
       "    </tr>\n",
       "    <tr>\n",
       "      <td>4</td>\n",
       "      <td>-80.194368</td>\n",
       "      <td>25.761536</td>\n",
       "      <td>0</td>\n",
       "    </tr>\n",
       "  </tbody>\n",
       "</table>\n",
       "</div>"
      ],
      "text/plain": [
       "   vehicle_lng  vehicle_lat  real\n",
       "0   -80.193698    25.758545     0\n",
       "1   -80.193810    25.765441     0\n",
       "2   -80.192591    25.768826     0\n",
       "3   -80.192591    25.768826     0\n",
       "4   -80.194368    25.761536     0"
      ]
     },
     "execution_count": 25,
     "metadata": {},
     "output_type": "execute_result"
    }
   ],
   "source": [
    "actual.head()"
   ]
  },
  {
   "cell_type": "code",
   "execution_count": 28,
   "metadata": {},
   "outputs": [],
   "source": [
    "actual.columns = ['lng', 'lat', 'real']\n",
    "expected.columns = ['lng', 'lat', 'real']"
   ]
  },
  {
   "cell_type": "code",
   "execution_count": 30,
   "metadata": {},
   "outputs": [],
   "source": [
    "dataset = pd.concat([actual, expected])"
   ]
  },
  {
   "cell_type": "code",
   "execution_count": 32,
   "metadata": {},
   "outputs": [
    {
     "data": {
      "text/html": [
       "<div>\n",
       "<style scoped>\n",
       "    .dataframe tbody tr th:only-of-type {\n",
       "        vertical-align: middle;\n",
       "    }\n",
       "\n",
       "    .dataframe tbody tr th {\n",
       "        vertical-align: top;\n",
       "    }\n",
       "\n",
       "    .dataframe thead th {\n",
       "        text-align: right;\n",
       "    }\n",
       "</style>\n",
       "<table border=\"1\" class=\"dataframe\">\n",
       "  <thead>\n",
       "    <tr style=\"text-align: right;\">\n",
       "      <th></th>\n",
       "      <th>lng</th>\n",
       "      <th>lat</th>\n",
       "      <th>real</th>\n",
       "    </tr>\n",
       "  </thead>\n",
       "  <tbody>\n",
       "    <tr>\n",
       "      <td>0</td>\n",
       "      <td>-80.193698</td>\n",
       "      <td>25.758545</td>\n",
       "      <td>0</td>\n",
       "    </tr>\n",
       "    <tr>\n",
       "      <td>1</td>\n",
       "      <td>-80.193810</td>\n",
       "      <td>25.765441</td>\n",
       "      <td>0</td>\n",
       "    </tr>\n",
       "    <tr>\n",
       "      <td>2</td>\n",
       "      <td>-80.192591</td>\n",
       "      <td>25.768826</td>\n",
       "      <td>0</td>\n",
       "    </tr>\n",
       "    <tr>\n",
       "      <td>3</td>\n",
       "      <td>-80.192591</td>\n",
       "      <td>25.768826</td>\n",
       "      <td>0</td>\n",
       "    </tr>\n",
       "    <tr>\n",
       "      <td>4</td>\n",
       "      <td>-80.194368</td>\n",
       "      <td>25.761536</td>\n",
       "      <td>0</td>\n",
       "    </tr>\n",
       "  </tbody>\n",
       "</table>\n",
       "</div>"
      ],
      "text/plain": [
       "         lng        lat  real\n",
       "0 -80.193698  25.758545     0\n",
       "1 -80.193810  25.765441     0\n",
       "2 -80.192591  25.768826     0\n",
       "3 -80.192591  25.768826     0\n",
       "4 -80.194368  25.761536     0"
      ]
     },
     "execution_count": 32,
     "metadata": {},
     "output_type": "execute_result"
    }
   ],
   "source": [
    "dataset.head()"
   ]
  },
  {
   "cell_type": "code",
   "execution_count": 33,
   "metadata": {},
   "outputs": [
    {
     "data": {
      "text/plain": [
       "(20000, 3)"
      ]
     },
     "execution_count": 33,
     "metadata": {},
     "output_type": "execute_result"
    }
   ],
   "source": [
    "dataset.shape"
   ]
  },
  {
   "cell_type": "code",
   "execution_count": null,
   "metadata": {},
   "outputs": [],
   "source": []
  }
 ],
 "metadata": {
  "kernelspec": {
   "display_name": "Python 3",
   "language": "python",
   "name": "python3"
  },
  "language_info": {
   "codemirror_mode": {
    "name": "ipython",
    "version": 3
   },
   "file_extension": ".py",
   "mimetype": "text/x-python",
   "name": "python",
   "nbconvert_exporter": "python",
   "pygments_lexer": "ipython3",
   "version": "3.7.4"
  }
 },
 "nbformat": 4,
 "nbformat_minor": 2
}
